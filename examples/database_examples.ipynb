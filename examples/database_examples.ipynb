{
 "cells": [
  {
   "cell_type": "markdown",
   "metadata": {},
   "source": [
    "# Database reference"
   ]
  },
  {
   "cell_type": "code",
   "execution_count": 41,
   "metadata": {
    "collapsed": true,
    "jupyter": {
     "outputs_hidden": true
    },
    "tags": []
   },
   "outputs": [],
   "source": [
    "from scipy.constants import c\n",
    "import pymwm\n",
    "wl_max = 10.0\n",
    "wl_min = 1.0\n",
    "\n",
    "params = {'core': {'shape': 'cylinder', 'size': 1.0,\n",
    "                   'fill': {'RI': 1.5}},\n",
    "          'clad': {'model': 'gold_rakic', 'im_factor': 1.0},\n",
    "          'bounds': {'wl_max': wl_max, 'wl_min': wl_min,\n",
    "                     'wl_imag': 100.0},  # conditions for use\n",
    "          'modes': {'num_n': 6, 'num_m': 2, 'wl_min': 1.0, 'wl_max': 10.0,\n",
    "                    'wl_imag': 10.0, 'dw': 1.0 / 256}}  # sampling setting for database\n",
    "wg = pymwm.create(params)  # It takes hours for the first time"
   ]
  },
  {
   "cell_type": "markdown",
   "metadata": {},
   "source": [
    "## Catalog"
   ]
  },
  {
   "cell_type": "code",
   "execution_count": 50,
   "metadata": {},
   "outputs": [],
   "source": [
    "database = wg.samples.database\n",
    "sn = database.get_sn()  # sample data number for the waveguide with params specified above\n",
    "catalog = database.load_catalog()\n",
    "catalog.query(f'sn >= {sn}')"
   ]
  },
  {
   "cell_type": "markdown",
   "metadata": {},
   "source": [
    "## Delete data"
   ]
  },
  {
   "cell_type": "code",
   "execution_count": 49,
   "metadata": {
    "tags": []
   },
   "outputs": [
    {
     "output_type": "error",
     "ename": "IndexError",
     "evalue": "index 0 is out of bounds for axis 0 with size 0",
     "traceback": [
      "\u001b[1;31m---------------------------------------------------------------------------\u001b[0m",
      "\u001b[1;31mIndexError\u001b[0m                                Traceback (most recent call last)",
      "\u001b[1;32m<ipython-input-49-9c53e00f6724>\u001b[0m in \u001b[0;36m<module>\u001b[1;34m\u001b[0m\n\u001b[0;32m      2\u001b[0m \u001b[1;31m# subprocess.call(\"cp ~/.pymwm/pymwm_data.h5 ~/.pymwm/pymwm_data.h5.bak\", shell=True)\u001b[0m\u001b[1;33m\u001b[0m\u001b[1;33m\u001b[0m\u001b[1;33m\u001b[0m\u001b[0m\n\u001b[0;32m      3\u001b[0m \u001b[1;31m# sns = catalog.query(f'sn >= {sn}')['sn']\u001b[0m\u001b[1;33m\u001b[0m\u001b[1;33m\u001b[0m\u001b[1;33m\u001b[0m\u001b[0m\n\u001b[1;32m----> 4\u001b[1;33m \u001b[0mdatabase\u001b[0m\u001b[1;33m.\u001b[0m\u001b[0mdelete\u001b[0m\u001b[1;33m(\u001b[0m\u001b[0msns\u001b[0m\u001b[1;33m)\u001b[0m\u001b[1;33m\u001b[0m\u001b[1;33m\u001b[0m\u001b[0m\n\u001b[0m\u001b[0;32m      5\u001b[0m \u001b[0mdatabase\u001b[0m\u001b[1;33m.\u001b[0m\u001b[0mload\u001b[0m\u001b[1;33m(\u001b[0m\u001b[1;33m)\u001b[0m\u001b[1;33m\u001b[0m\u001b[1;33m\u001b[0m\u001b[0m\n\u001b[0;32m      6\u001b[0m \u001b[0mcatalog\u001b[0m \u001b[1;33m=\u001b[0m \u001b[0mdatabase\u001b[0m\u001b[1;33m.\u001b[0m\u001b[0mload_catalog\u001b[0m\u001b[1;33m(\u001b[0m\u001b[1;33m)\u001b[0m\u001b[1;33m\u001b[0m\u001b[1;33m\u001b[0m\u001b[0m\n",
      "\u001b[1;32m~/usr/lib/PyMWM/pymwm/waveguide.py\u001b[0m in \u001b[0;36mdelete\u001b[1;34m(self, sns)\u001b[0m\n\u001b[0;32m    742\u001b[0m                 self.filename, complevel=9, complib='blosc') as store:\n\u001b[0;32m    743\u001b[0m             \u001b[0mcatalog\u001b[0m \u001b[1;33m=\u001b[0m \u001b[0mstore\u001b[0m\u001b[1;33m[\u001b[0m\u001b[1;34m'catalog'\u001b[0m\u001b[1;33m]\u001b[0m\u001b[1;33m\u001b[0m\u001b[1;33m\u001b[0m\u001b[0m\n\u001b[1;32m--> 744\u001b[1;33m             \u001b[0mindices\u001b[0m \u001b[1;33m=\u001b[0m \u001b[1;33m[\u001b[0m\u001b[0mcatalog\u001b[0m\u001b[1;33m[\u001b[0m\u001b[0mcatalog\u001b[0m\u001b[1;33m[\u001b[0m\u001b[1;34m'sn'\u001b[0m\u001b[1;33m]\u001b[0m \u001b[1;33m==\u001b[0m \u001b[0msn\u001b[0m\u001b[1;33m]\u001b[0m\u001b[1;33m.\u001b[0m\u001b[0mindex\u001b[0m\u001b[1;33m[\u001b[0m\u001b[1;36m0\u001b[0m\u001b[1;33m]\u001b[0m \u001b[1;32mfor\u001b[0m \u001b[0msn\u001b[0m \u001b[1;32min\u001b[0m \u001b[0msns\u001b[0m\u001b[1;33m]\u001b[0m\u001b[1;33m\u001b[0m\u001b[1;33m\u001b[0m\u001b[0m\n\u001b[0m\u001b[0;32m    745\u001b[0m             \u001b[1;32mfor\u001b[0m \u001b[0mi\u001b[0m\u001b[1;33m,\u001b[0m \u001b[0msn\u001b[0m \u001b[1;32min\u001b[0m \u001b[0mzip\u001b[0m\u001b[1;33m(\u001b[0m\u001b[0mindices\u001b[0m\u001b[1;33m,\u001b[0m \u001b[0msns\u001b[0m\u001b[1;33m)\u001b[0m\u001b[1;33m:\u001b[0m\u001b[1;33m\u001b[0m\u001b[1;33m\u001b[0m\u001b[0m\n\u001b[0;32m    746\u001b[0m                 \u001b[0mcatalog\u001b[0m\u001b[1;33m.\u001b[0m\u001b[0mdrop\u001b[0m\u001b[1;33m(\u001b[0m\u001b[0mi\u001b[0m\u001b[1;33m,\u001b[0m \u001b[0minplace\u001b[0m\u001b[1;33m=\u001b[0m\u001b[1;32mTrue\u001b[0m\u001b[1;33m)\u001b[0m\u001b[1;33m\u001b[0m\u001b[1;33m\u001b[0m\u001b[0m\n",
      "\u001b[1;32m~/usr/lib/PyMWM/pymwm/waveguide.py\u001b[0m in \u001b[0;36m<listcomp>\u001b[1;34m(.0)\u001b[0m\n\u001b[0;32m    742\u001b[0m                 self.filename, complevel=9, complib='blosc') as store:\n\u001b[0;32m    743\u001b[0m             \u001b[0mcatalog\u001b[0m \u001b[1;33m=\u001b[0m \u001b[0mstore\u001b[0m\u001b[1;33m[\u001b[0m\u001b[1;34m'catalog'\u001b[0m\u001b[1;33m]\u001b[0m\u001b[1;33m\u001b[0m\u001b[1;33m\u001b[0m\u001b[0m\n\u001b[1;32m--> 744\u001b[1;33m             \u001b[0mindices\u001b[0m \u001b[1;33m=\u001b[0m \u001b[1;33m[\u001b[0m\u001b[0mcatalog\u001b[0m\u001b[1;33m[\u001b[0m\u001b[0mcatalog\u001b[0m\u001b[1;33m[\u001b[0m\u001b[1;34m'sn'\u001b[0m\u001b[1;33m]\u001b[0m \u001b[1;33m==\u001b[0m \u001b[0msn\u001b[0m\u001b[1;33m]\u001b[0m\u001b[1;33m.\u001b[0m\u001b[0mindex\u001b[0m\u001b[1;33m[\u001b[0m\u001b[1;36m0\u001b[0m\u001b[1;33m]\u001b[0m \u001b[1;32mfor\u001b[0m \u001b[0msn\u001b[0m \u001b[1;32min\u001b[0m \u001b[0msns\u001b[0m\u001b[1;33m]\u001b[0m\u001b[1;33m\u001b[0m\u001b[1;33m\u001b[0m\u001b[0m\n\u001b[0m\u001b[0;32m    745\u001b[0m             \u001b[1;32mfor\u001b[0m \u001b[0mi\u001b[0m\u001b[1;33m,\u001b[0m \u001b[0msn\u001b[0m \u001b[1;32min\u001b[0m \u001b[0mzip\u001b[0m\u001b[1;33m(\u001b[0m\u001b[0mindices\u001b[0m\u001b[1;33m,\u001b[0m \u001b[0msns\u001b[0m\u001b[1;33m)\u001b[0m\u001b[1;33m:\u001b[0m\u001b[1;33m\u001b[0m\u001b[1;33m\u001b[0m\u001b[0m\n\u001b[0;32m    746\u001b[0m                 \u001b[0mcatalog\u001b[0m\u001b[1;33m.\u001b[0m\u001b[0mdrop\u001b[0m\u001b[1;33m(\u001b[0m\u001b[0mi\u001b[0m\u001b[1;33m,\u001b[0m \u001b[0minplace\u001b[0m\u001b[1;33m=\u001b[0m\u001b[1;32mTrue\u001b[0m\u001b[1;33m)\u001b[0m\u001b[1;33m\u001b[0m\u001b[1;33m\u001b[0m\u001b[0m\n",
      "\u001b[1;32m~/.envs/cm/lib/python3.8/site-packages/pandas/core/indexes/base.py\u001b[0m in \u001b[0;36m__getitem__\u001b[1;34m(self, key)\u001b[0m\n\u001b[0;32m   4093\u001b[0m         \u001b[1;32mif\u001b[0m \u001b[0mis_scalar\u001b[0m\u001b[1;33m(\u001b[0m\u001b[0mkey\u001b[0m\u001b[1;33m)\u001b[0m\u001b[1;33m:\u001b[0m\u001b[1;33m\u001b[0m\u001b[1;33m\u001b[0m\u001b[0m\n\u001b[0;32m   4094\u001b[0m             \u001b[0mkey\u001b[0m \u001b[1;33m=\u001b[0m \u001b[0mcom\u001b[0m\u001b[1;33m.\u001b[0m\u001b[0mcast_scalar_indexer\u001b[0m\u001b[1;33m(\u001b[0m\u001b[0mkey\u001b[0m\u001b[1;33m,\u001b[0m \u001b[0mwarn_float\u001b[0m\u001b[1;33m=\u001b[0m\u001b[1;32mTrue\u001b[0m\u001b[1;33m)\u001b[0m\u001b[1;33m\u001b[0m\u001b[1;33m\u001b[0m\u001b[0m\n\u001b[1;32m-> 4095\u001b[1;33m             \u001b[1;32mreturn\u001b[0m \u001b[0mgetitem\u001b[0m\u001b[1;33m(\u001b[0m\u001b[0mkey\u001b[0m\u001b[1;33m)\u001b[0m\u001b[1;33m\u001b[0m\u001b[1;33m\u001b[0m\u001b[0m\n\u001b[0m\u001b[0;32m   4096\u001b[0m \u001b[1;33m\u001b[0m\u001b[0m\n\u001b[0;32m   4097\u001b[0m         \u001b[1;32mif\u001b[0m \u001b[0misinstance\u001b[0m\u001b[1;33m(\u001b[0m\u001b[0mkey\u001b[0m\u001b[1;33m,\u001b[0m \u001b[0mslice\u001b[0m\u001b[1;33m)\u001b[0m\u001b[1;33m:\u001b[0m\u001b[1;33m\u001b[0m\u001b[1;33m\u001b[0m\u001b[0m\n",
      "\u001b[1;31mIndexError\u001b[0m: index 0 is out of bounds for axis 0 with size 0"
     ]
    }
   ],
   "source": [
    "import subprocess\n",
    "subprocess.call(\"cp ~/.pymwm/pymwm_data.h5 ~/.pymwm/pymwm_data.h5.bak\", shell=True)\n",
    "sns = catalog.query(f'sn >= {sn}')['sn']\n",
    "database.delete(sns)\n",
    "database.load()\n",
    "catalog = database.load_catalog()\n",
    "sn = database.get_sn()  # sample data number for the waveguide with params specified above\n",
    "catalog.query(f'sn >= {sn}')"
   ]
  },
  {
   "cell_type": "code",
   "execution_count": 30,
   "metadata": {},
   "outputs": [
    {
     "output_type": "execute_result",
     "data": {
      "text/plain": "        sn     shape  size  size2    core        clad  wl_max  wl_min  \\\n7110  7272  cylinder   1.0    0.0  RI_1.5  gold_rakic    12.4  0.2066   \n7111  7273  cylinder   1.0    0.0  RI_1.5  gold_rakic    12.4  0.2066   \n7112  7274  cylinder   1.0    0.0  RI_1.5  gold_rakic    12.4  0.2066   \n7113  7275  cylinder   1.0    0.0  RI_1.5  gold_rakic    12.4  0.2066   \n7114  7276  cylinder   1.0    0.0  RI_1.5  gold_rakic    12.4  0.2066   \n7115  7277  cylinder   1.0    0.0  RI_1.5  gold_rakic    12.4  0.2066   \n7116  7278  cylinder   1.0    0.0  RI_1.5  gold_rakic    12.4  0.2066   \n7117  7279  cylinder   1.0    0.0  RI_1.5  gold_rakic    12.4  0.2066   \n7118  7280  cylinder   1.0    0.0  RI_1.5  gold_rakic    12.4  0.2066   \n7119  7281  cylinder   1.0    0.0  RI_1.5  gold_rakic    12.4  0.2066   \n7120  7282  cylinder   1.0    0.0  RI_1.5  gold_rakic    12.4  0.2066   \n7121  7283  cylinder   1.0    0.0  RI_1.5  gold_rakic    12.4  0.2066   \n7122  7284  cylinder   1.0    0.0  RI_1.5  gold_rakic    12.4  0.2066   \n7123  7285  cylinder   1.0    0.0  RI_1.5  gold_rakic    12.4  0.2066   \n7124  7286  cylinder   1.0    0.0  RI_1.5  gold_rakic    12.4  0.2066   \n7125  7287  cylinder   1.0    0.0  RI_1.5  gold_rakic    12.4  0.2066   \n7126  7288  cylinder   1.0    0.0  RI_1.5  gold_rakic    12.4  0.2066   \n7127  7289  cylinder   1.0    0.0  RI_1.5  gold_rakic    12.4  0.2066   \n7128  7290  cylinder   1.0    0.0  RI_1.5  gold_rakic    12.4  0.2066   \n7129  7291  cylinder   1.0    0.0  RI_1.5  gold_rakic    12.4  0.2066   \n7130  7292  cylinder   1.0    0.0  RI_1.5  gold_rakic    12.4  0.2066   \n7131  7293  cylinder   1.0    0.0  RI_1.5  gold_rakic    12.4  0.2066   \n7132  7294  cylinder   1.0    0.0  RI_1.5  gold_rakic    12.4  0.2066   \n7133  7295  cylinder   1.0    0.0  RI_1.5  gold_rakic    12.4  0.2066   \n7134  7296  cylinder   1.0    0.0  RI_1.5  gold_rakic    12.4  0.2066   \n7135  7297  cylinder   1.0    0.0  RI_1.5  gold_rakic    12.4  0.2066   \n7136  7298  cylinder   1.0    0.0  RI_1.5  gold_rakic    12.4  0.2066   \n7137  7299  cylinder   1.0    0.0  RI_1.5  gold_rakic    12.4  0.2066   \n7138  7300  cylinder   1.0    0.0  RI_1.5  gold_rakic    12.4  0.2066   \n7139  7301  cylinder   1.0    0.0  RI_1.5  gold_rakic    12.4  0.2066   \n\n      wl_imag        dw  num_n  num_m  im_factor EM  n  m  \n7110      5.0  0.015625      6      2        1.0  E  0  1  \n7111      5.0  0.015625      6      2        1.0  E  0  2  \n7112      5.0  0.015625      6      2        1.0  E  1  1  \n7113      5.0  0.015625      6      2        1.0  E  1  2  \n7114      5.0  0.015625      6      2        1.0  E  2  1  \n7115      5.0  0.015625      6      2        1.0  E  2  2  \n7116      5.0  0.015625      6      2        1.0  E  3  1  \n7117      5.0  0.015625      6      2        1.0  E  3  2  \n7118      5.0  0.015625      6      2        1.0  E  4  1  \n7119      5.0  0.015625      6      2        1.0  E  4  2  \n7120      5.0  0.015625      6      2        1.0  E  5  1  \n7121      5.0  0.015625      6      2        1.0  E  5  2  \n7122      5.0  0.015625      6      2        1.0  M  0  1  \n7123      5.0  0.015625      6      2        1.0  M  0  2  \n7124      5.0  0.015625      6      2        1.0  M  0  3  \n7125      5.0  0.015625      6      2        1.0  M  1  1  \n7126      5.0  0.015625      6      2        1.0  M  1  2  \n7127      5.0  0.015625      6      2        1.0  M  1  3  \n7128      5.0  0.015625      6      2        1.0  M  2  1  \n7129      5.0  0.015625      6      2        1.0  M  2  2  \n7130      5.0  0.015625      6      2        1.0  M  2  3  \n7131      5.0  0.015625      6      2        1.0  M  3  1  \n7132      5.0  0.015625      6      2        1.0  M  3  2  \n7133      5.0  0.015625      6      2        1.0  M  3  3  \n7134      5.0  0.015625      6      2        1.0  M  4  1  \n7135      5.0  0.015625      6      2        1.0  M  4  2  \n7136      5.0  0.015625      6      2        1.0  M  4  3  \n7137      5.0  0.015625      6      2        1.0  M  5  1  \n7138      5.0  0.015625      6      2        1.0  M  5  2  \n7139      5.0  0.015625      6      2        1.0  M  5  3  ",
      "text/html": "<div>\n<style scoped>\n    .dataframe tbody tr th:only-of-type {\n        vertical-align: middle;\n    }\n\n    .dataframe tbody tr th {\n        vertical-align: top;\n    }\n\n    .dataframe thead th {\n        text-align: right;\n    }\n</style>\n<table border=\"1\" class=\"dataframe\">\n  <thead>\n    <tr style=\"text-align: right;\">\n      <th></th>\n      <th>sn</th>\n      <th>shape</th>\n      <th>size</th>\n      <th>size2</th>\n      <th>core</th>\n      <th>clad</th>\n      <th>wl_max</th>\n      <th>wl_min</th>\n      <th>wl_imag</th>\n      <th>dw</th>\n      <th>num_n</th>\n      <th>num_m</th>\n      <th>im_factor</th>\n      <th>EM</th>\n      <th>n</th>\n      <th>m</th>\n    </tr>\n  </thead>\n  <tbody>\n    <tr>\n      <th>7110</th>\n      <td>7272</td>\n      <td>cylinder</td>\n      <td>1.0</td>\n      <td>0.0</td>\n      <td>RI_1.5</td>\n      <td>gold_rakic</td>\n      <td>12.4</td>\n      <td>0.2066</td>\n      <td>5.0</td>\n      <td>0.015625</td>\n      <td>6</td>\n      <td>2</td>\n      <td>1.0</td>\n      <td>E</td>\n      <td>0</td>\n      <td>1</td>\n    </tr>\n    <tr>\n      <th>7111</th>\n      <td>7273</td>\n      <td>cylinder</td>\n      <td>1.0</td>\n      <td>0.0</td>\n      <td>RI_1.5</td>\n      <td>gold_rakic</td>\n      <td>12.4</td>\n      <td>0.2066</td>\n      <td>5.0</td>\n      <td>0.015625</td>\n      <td>6</td>\n      <td>2</td>\n      <td>1.0</td>\n      <td>E</td>\n      <td>0</td>\n      <td>2</td>\n    </tr>\n    <tr>\n      <th>7112</th>\n      <td>7274</td>\n      <td>cylinder</td>\n      <td>1.0</td>\n      <td>0.0</td>\n      <td>RI_1.5</td>\n      <td>gold_rakic</td>\n      <td>12.4</td>\n      <td>0.2066</td>\n      <td>5.0</td>\n      <td>0.015625</td>\n      <td>6</td>\n      <td>2</td>\n      <td>1.0</td>\n      <td>E</td>\n      <td>1</td>\n      <td>1</td>\n    </tr>\n    <tr>\n      <th>7113</th>\n      <td>7275</td>\n      <td>cylinder</td>\n      <td>1.0</td>\n      <td>0.0</td>\n      <td>RI_1.5</td>\n      <td>gold_rakic</td>\n      <td>12.4</td>\n      <td>0.2066</td>\n      <td>5.0</td>\n      <td>0.015625</td>\n      <td>6</td>\n      <td>2</td>\n      <td>1.0</td>\n      <td>E</td>\n      <td>1</td>\n      <td>2</td>\n    </tr>\n    <tr>\n      <th>7114</th>\n      <td>7276</td>\n      <td>cylinder</td>\n      <td>1.0</td>\n      <td>0.0</td>\n      <td>RI_1.5</td>\n      <td>gold_rakic</td>\n      <td>12.4</td>\n      <td>0.2066</td>\n      <td>5.0</td>\n      <td>0.015625</td>\n      <td>6</td>\n      <td>2</td>\n      <td>1.0</td>\n      <td>E</td>\n      <td>2</td>\n      <td>1</td>\n    </tr>\n    <tr>\n      <th>7115</th>\n      <td>7277</td>\n      <td>cylinder</td>\n      <td>1.0</td>\n      <td>0.0</td>\n      <td>RI_1.5</td>\n      <td>gold_rakic</td>\n      <td>12.4</td>\n      <td>0.2066</td>\n      <td>5.0</td>\n      <td>0.015625</td>\n      <td>6</td>\n      <td>2</td>\n      <td>1.0</td>\n      <td>E</td>\n      <td>2</td>\n      <td>2</td>\n    </tr>\n    <tr>\n      <th>7116</th>\n      <td>7278</td>\n      <td>cylinder</td>\n      <td>1.0</td>\n      <td>0.0</td>\n      <td>RI_1.5</td>\n      <td>gold_rakic</td>\n      <td>12.4</td>\n      <td>0.2066</td>\n      <td>5.0</td>\n      <td>0.015625</td>\n      <td>6</td>\n      <td>2</td>\n      <td>1.0</td>\n      <td>E</td>\n      <td>3</td>\n      <td>1</td>\n    </tr>\n    <tr>\n      <th>7117</th>\n      <td>7279</td>\n      <td>cylinder</td>\n      <td>1.0</td>\n      <td>0.0</td>\n      <td>RI_1.5</td>\n      <td>gold_rakic</td>\n      <td>12.4</td>\n      <td>0.2066</td>\n      <td>5.0</td>\n      <td>0.015625</td>\n      <td>6</td>\n      <td>2</td>\n      <td>1.0</td>\n      <td>E</td>\n      <td>3</td>\n      <td>2</td>\n    </tr>\n    <tr>\n      <th>7118</th>\n      <td>7280</td>\n      <td>cylinder</td>\n      <td>1.0</td>\n      <td>0.0</td>\n      <td>RI_1.5</td>\n      <td>gold_rakic</td>\n      <td>12.4</td>\n      <td>0.2066</td>\n      <td>5.0</td>\n      <td>0.015625</td>\n      <td>6</td>\n      <td>2</td>\n      <td>1.0</td>\n      <td>E</td>\n      <td>4</td>\n      <td>1</td>\n    </tr>\n    <tr>\n      <th>7119</th>\n      <td>7281</td>\n      <td>cylinder</td>\n      <td>1.0</td>\n      <td>0.0</td>\n      <td>RI_1.5</td>\n      <td>gold_rakic</td>\n      <td>12.4</td>\n      <td>0.2066</td>\n      <td>5.0</td>\n      <td>0.015625</td>\n      <td>6</td>\n      <td>2</td>\n      <td>1.0</td>\n      <td>E</td>\n      <td>4</td>\n      <td>2</td>\n    </tr>\n    <tr>\n      <th>7120</th>\n      <td>7282</td>\n      <td>cylinder</td>\n      <td>1.0</td>\n      <td>0.0</td>\n      <td>RI_1.5</td>\n      <td>gold_rakic</td>\n      <td>12.4</td>\n      <td>0.2066</td>\n      <td>5.0</td>\n      <td>0.015625</td>\n      <td>6</td>\n      <td>2</td>\n      <td>1.0</td>\n      <td>E</td>\n      <td>5</td>\n      <td>1</td>\n    </tr>\n    <tr>\n      <th>7121</th>\n      <td>7283</td>\n      <td>cylinder</td>\n      <td>1.0</td>\n      <td>0.0</td>\n      <td>RI_1.5</td>\n      <td>gold_rakic</td>\n      <td>12.4</td>\n      <td>0.2066</td>\n      <td>5.0</td>\n      <td>0.015625</td>\n      <td>6</td>\n      <td>2</td>\n      <td>1.0</td>\n      <td>E</td>\n      <td>5</td>\n      <td>2</td>\n    </tr>\n    <tr>\n      <th>7122</th>\n      <td>7284</td>\n      <td>cylinder</td>\n      <td>1.0</td>\n      <td>0.0</td>\n      <td>RI_1.5</td>\n      <td>gold_rakic</td>\n      <td>12.4</td>\n      <td>0.2066</td>\n      <td>5.0</td>\n      <td>0.015625</td>\n      <td>6</td>\n      <td>2</td>\n      <td>1.0</td>\n      <td>M</td>\n      <td>0</td>\n      <td>1</td>\n    </tr>\n    <tr>\n      <th>7123</th>\n      <td>7285</td>\n      <td>cylinder</td>\n      <td>1.0</td>\n      <td>0.0</td>\n      <td>RI_1.5</td>\n      <td>gold_rakic</td>\n      <td>12.4</td>\n      <td>0.2066</td>\n      <td>5.0</td>\n      <td>0.015625</td>\n      <td>6</td>\n      <td>2</td>\n      <td>1.0</td>\n      <td>M</td>\n      <td>0</td>\n      <td>2</td>\n    </tr>\n    <tr>\n      <th>7124</th>\n      <td>7286</td>\n      <td>cylinder</td>\n      <td>1.0</td>\n      <td>0.0</td>\n      <td>RI_1.5</td>\n      <td>gold_rakic</td>\n      <td>12.4</td>\n      <td>0.2066</td>\n      <td>5.0</td>\n      <td>0.015625</td>\n      <td>6</td>\n      <td>2</td>\n      <td>1.0</td>\n      <td>M</td>\n      <td>0</td>\n      <td>3</td>\n    </tr>\n    <tr>\n      <th>7125</th>\n      <td>7287</td>\n      <td>cylinder</td>\n      <td>1.0</td>\n      <td>0.0</td>\n      <td>RI_1.5</td>\n      <td>gold_rakic</td>\n      <td>12.4</td>\n      <td>0.2066</td>\n      <td>5.0</td>\n      <td>0.015625</td>\n      <td>6</td>\n      <td>2</td>\n      <td>1.0</td>\n      <td>M</td>\n      <td>1</td>\n      <td>1</td>\n    </tr>\n    <tr>\n      <th>7126</th>\n      <td>7288</td>\n      <td>cylinder</td>\n      <td>1.0</td>\n      <td>0.0</td>\n      <td>RI_1.5</td>\n      <td>gold_rakic</td>\n      <td>12.4</td>\n      <td>0.2066</td>\n      <td>5.0</td>\n      <td>0.015625</td>\n      <td>6</td>\n      <td>2</td>\n      <td>1.0</td>\n      <td>M</td>\n      <td>1</td>\n      <td>2</td>\n    </tr>\n    <tr>\n      <th>7127</th>\n      <td>7289</td>\n      <td>cylinder</td>\n      <td>1.0</td>\n      <td>0.0</td>\n      <td>RI_1.5</td>\n      <td>gold_rakic</td>\n      <td>12.4</td>\n      <td>0.2066</td>\n      <td>5.0</td>\n      <td>0.015625</td>\n      <td>6</td>\n      <td>2</td>\n      <td>1.0</td>\n      <td>M</td>\n      <td>1</td>\n      <td>3</td>\n    </tr>\n    <tr>\n      <th>7128</th>\n      <td>7290</td>\n      <td>cylinder</td>\n      <td>1.0</td>\n      <td>0.0</td>\n      <td>RI_1.5</td>\n      <td>gold_rakic</td>\n      <td>12.4</td>\n      <td>0.2066</td>\n      <td>5.0</td>\n      <td>0.015625</td>\n      <td>6</td>\n      <td>2</td>\n      <td>1.0</td>\n      <td>M</td>\n      <td>2</td>\n      <td>1</td>\n    </tr>\n    <tr>\n      <th>7129</th>\n      <td>7291</td>\n      <td>cylinder</td>\n      <td>1.0</td>\n      <td>0.0</td>\n      <td>RI_1.5</td>\n      <td>gold_rakic</td>\n      <td>12.4</td>\n      <td>0.2066</td>\n      <td>5.0</td>\n      <td>0.015625</td>\n      <td>6</td>\n      <td>2</td>\n      <td>1.0</td>\n      <td>M</td>\n      <td>2</td>\n      <td>2</td>\n    </tr>\n    <tr>\n      <th>7130</th>\n      <td>7292</td>\n      <td>cylinder</td>\n      <td>1.0</td>\n      <td>0.0</td>\n      <td>RI_1.5</td>\n      <td>gold_rakic</td>\n      <td>12.4</td>\n      <td>0.2066</td>\n      <td>5.0</td>\n      <td>0.015625</td>\n      <td>6</td>\n      <td>2</td>\n      <td>1.0</td>\n      <td>M</td>\n      <td>2</td>\n      <td>3</td>\n    </tr>\n    <tr>\n      <th>7131</th>\n      <td>7293</td>\n      <td>cylinder</td>\n      <td>1.0</td>\n      <td>0.0</td>\n      <td>RI_1.5</td>\n      <td>gold_rakic</td>\n      <td>12.4</td>\n      <td>0.2066</td>\n      <td>5.0</td>\n      <td>0.015625</td>\n      <td>6</td>\n      <td>2</td>\n      <td>1.0</td>\n      <td>M</td>\n      <td>3</td>\n      <td>1</td>\n    </tr>\n    <tr>\n      <th>7132</th>\n      <td>7294</td>\n      <td>cylinder</td>\n      <td>1.0</td>\n      <td>0.0</td>\n      <td>RI_1.5</td>\n      <td>gold_rakic</td>\n      <td>12.4</td>\n      <td>0.2066</td>\n      <td>5.0</td>\n      <td>0.015625</td>\n      <td>6</td>\n      <td>2</td>\n      <td>1.0</td>\n      <td>M</td>\n      <td>3</td>\n      <td>2</td>\n    </tr>\n    <tr>\n      <th>7133</th>\n      <td>7295</td>\n      <td>cylinder</td>\n      <td>1.0</td>\n      <td>0.0</td>\n      <td>RI_1.5</td>\n      <td>gold_rakic</td>\n      <td>12.4</td>\n      <td>0.2066</td>\n      <td>5.0</td>\n      <td>0.015625</td>\n      <td>6</td>\n      <td>2</td>\n      <td>1.0</td>\n      <td>M</td>\n      <td>3</td>\n      <td>3</td>\n    </tr>\n    <tr>\n      <th>7134</th>\n      <td>7296</td>\n      <td>cylinder</td>\n      <td>1.0</td>\n      <td>0.0</td>\n      <td>RI_1.5</td>\n      <td>gold_rakic</td>\n      <td>12.4</td>\n      <td>0.2066</td>\n      <td>5.0</td>\n      <td>0.015625</td>\n      <td>6</td>\n      <td>2</td>\n      <td>1.0</td>\n      <td>M</td>\n      <td>4</td>\n      <td>1</td>\n    </tr>\n    <tr>\n      <th>7135</th>\n      <td>7297</td>\n      <td>cylinder</td>\n      <td>1.0</td>\n      <td>0.0</td>\n      <td>RI_1.5</td>\n      <td>gold_rakic</td>\n      <td>12.4</td>\n      <td>0.2066</td>\n      <td>5.0</td>\n      <td>0.015625</td>\n      <td>6</td>\n      <td>2</td>\n      <td>1.0</td>\n      <td>M</td>\n      <td>4</td>\n      <td>2</td>\n    </tr>\n    <tr>\n      <th>7136</th>\n      <td>7298</td>\n      <td>cylinder</td>\n      <td>1.0</td>\n      <td>0.0</td>\n      <td>RI_1.5</td>\n      <td>gold_rakic</td>\n      <td>12.4</td>\n      <td>0.2066</td>\n      <td>5.0</td>\n      <td>0.015625</td>\n      <td>6</td>\n      <td>2</td>\n      <td>1.0</td>\n      <td>M</td>\n      <td>4</td>\n      <td>3</td>\n    </tr>\n    <tr>\n      <th>7137</th>\n      <td>7299</td>\n      <td>cylinder</td>\n      <td>1.0</td>\n      <td>0.0</td>\n      <td>RI_1.5</td>\n      <td>gold_rakic</td>\n      <td>12.4</td>\n      <td>0.2066</td>\n      <td>5.0</td>\n      <td>0.015625</td>\n      <td>6</td>\n      <td>2</td>\n      <td>1.0</td>\n      <td>M</td>\n      <td>5</td>\n      <td>1</td>\n    </tr>\n    <tr>\n      <th>7138</th>\n      <td>7300</td>\n      <td>cylinder</td>\n      <td>1.0</td>\n      <td>0.0</td>\n      <td>RI_1.5</td>\n      <td>gold_rakic</td>\n      <td>12.4</td>\n      <td>0.2066</td>\n      <td>5.0</td>\n      <td>0.015625</td>\n      <td>6</td>\n      <td>2</td>\n      <td>1.0</td>\n      <td>M</td>\n      <td>5</td>\n      <td>2</td>\n    </tr>\n    <tr>\n      <th>7139</th>\n      <td>7301</td>\n      <td>cylinder</td>\n      <td>1.0</td>\n      <td>0.0</td>\n      <td>RI_1.5</td>\n      <td>gold_rakic</td>\n      <td>12.4</td>\n      <td>0.2066</td>\n      <td>5.0</td>\n      <td>0.015625</td>\n      <td>6</td>\n      <td>2</td>\n      <td>1.0</td>\n      <td>M</td>\n      <td>5</td>\n      <td>3</td>\n    </tr>\n  </tbody>\n</table>\n</div>"
     },
     "metadata": {},
     "execution_count": 30
    }
   ],
   "source": [
    "subprocess.call(\"mv ~/.pymwm/pymwm_data.h5.bak ~/.pymwm/pymwm_data.h5\", shell=True)\n",
    "database.load()\n",
    "catalog = database.load_catalog()\n",
    "sn = database.get_sn()  # sample data number for the waveguide with params specified above\n",
    "catalog.query(f'sn >= {sn}')"
   ]
  },
  {
   "cell_type": "code",
   "execution_count": null,
   "metadata": {},
   "outputs": [],
   "source": []
  }
 ],
 "metadata": {
  "kernelspec": {
   "display_name": "Python 3",
   "language": "python",
   "name": "python3"
  },
  "language_info": {
   "codemirror_mode": {
    "name": "ipython",
    "version": 3
   },
   "file_extension": ".py",
   "mimetype": "text/x-python",
   "name": "python",
   "nbconvert_exporter": "python",
   "pygments_lexer": "ipython3",
   "version": "3.8.5-final"
  }
 },
 "nbformat": 4,
 "nbformat_minor": 4
}