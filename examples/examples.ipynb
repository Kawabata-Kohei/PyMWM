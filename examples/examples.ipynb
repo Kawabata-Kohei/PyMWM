{
 "cells": [
  {
   "cell_type": "code",
   "execution_count": null,
   "metadata": {
    "collapsed": true
   },
   "outputs": [],
   "source": [
    "import numpy as np"
   ]
  },
  {
   "cell_type": "code",
   "execution_count": null,
   "metadata": {},
   "outputs": [],
   "source": [
    "import numpy as np\n",
    "from scipy.constants import c\n",
    "import pymwm\n",
    "fmin = 2.0\n",
    "fmax = 6.0\n",
    "lmin = c * 1e-8 / fmax\n",
    "lmax = c * 1e-8 / fmin\n",
    "params = {'core': {'shape': 'cylinder', 'size': 0.15,\n",
    "                   'fill': {'model': 'air'}},\n",
    "          'clad': {'model': 'gold_dl'},\n",
    "          'bounds': {'lmax': lmax, 'lmin': lmin, 'limag': 10.0},\n",
    "          'modes': {'num_n': 6, 'num_m': 2}}\n",
    "wg = pymwm.create(params)\n",
    "wg.plot_betas(fmin, fmax, comp='real')\n",
    "wg.plot_betas(fmin, fmax, comp='imag')\n",
    "w = 2 * np.pi / lmax\n",
    "print(\"lambda =\", lmax)\n",
    "for alpha in wg.alpha_list:\n",
    "    print(alpha, np.abs(wg.coef(wg.beta(w, alpha), w, alpha)))\n",
    "w = 2 * np.pi / lmin\n",
    "print(\"lambda =\", lmin)\n",
    "for alpha in wg.alpha_list:\n",
    "    print(alpha, np.abs(wg.coef(wg.beta(w, alpha), w, alpha)))"
   ]
  }
 ],
 "metadata": {
  "kernelspec": {
   "display_name": "Python 2",
   "language": "python",
   "name": "python2"
  },
  "language_info": {
   "codemirror_mode": {
    "name": "ipython",
    "version": 2.0
   },
   "file_extension": ".py",
   "mimetype": "text/x-python",
   "name": "python",
   "nbconvert_exporter": "python",
   "pygments_lexer": "ipython2",
   "version": "2.7.6"
  }
 },
 "nbformat": 4,
 "nbformat_minor": 0
}